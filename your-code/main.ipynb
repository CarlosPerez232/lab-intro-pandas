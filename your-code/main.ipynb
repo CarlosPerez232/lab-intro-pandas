{
 "cells": [
  {
   "cell_type": "markdown",
   "metadata": {},
   "source": [
    "# Introduction to Pandas Lab\n",
    "\n",
    "Complete the following set of exercises to solidify your knowledge of Pandas fundamentals."
   ]
  },
  {
   "cell_type": "markdown",
   "metadata": {},
   "source": [
    "### 1. Import Numpy and Pandas and alias them to `np` and `pd` respectively."
   ]
  },
  {
   "cell_type": "code",
   "execution_count": 1,
   "metadata": {},
   "outputs": [],
   "source": [
    "import numpy as np\n",
    "import pandas as pd\n"
   ]
  },
  {
   "cell_type": "markdown",
   "metadata": {},
   "source": [
    "### 2. Create a Pandas Series containing the elements of the list below."
   ]
  },
  {
   "cell_type": "code",
   "execution_count": 2,
   "metadata": {},
   "outputs": [],
   "source": [
    "lst = [5.7, 75.2, 74.4, 84.0, 66.5, 66.3, 55.8, 75.7, 29.1, 43.7]"
   ]
  },
  {
   "cell_type": "code",
   "execution_count": 3,
   "metadata": {},
   "outputs": [
    {
     "output_type": "stream",
     "name": "stdout",
     "text": [
      "0     5.7\n1    75.2\n2    74.4\n3    84.0\n4    66.5\n5    66.3\n6    55.8\n7    75.7\n8    29.1\n9    43.7\ndtype: float64\n"
     ]
    }
   ],
   "source": [
    "Test_Pandas = pd.Series(lst)\n",
    "print(Test_Pandas)"
   ]
  },
  {
   "cell_type": "markdown",
   "metadata": {},
   "source": [
    "### 3. Use indexing to return the third value in the Series above.\n",
    "\n",
    "*Hint: Remember that indexing begins at 0.*"
   ]
  },
  {
   "cell_type": "code",
   "execution_count": 4,
   "metadata": {},
   "outputs": [
    {
     "output_type": "stream",
     "name": "stdout",
     "text": [
      "74.4\n"
     ]
    }
   ],
   "source": [
    "print(Test_Pandas[2])"
   ]
  },
  {
   "cell_type": "markdown",
   "metadata": {},
   "source": [
    "### 4. Create a Pandas DataFrame from the list of lists below. Each sublist should be represented as a row."
   ]
  },
  {
   "cell_type": "code",
   "execution_count": 5,
   "metadata": {},
   "outputs": [],
   "source": [
    "b = [[53.1, 95.0, 67.5, 35.0, 78.4],\n",
    "     [61.3, 40.8, 30.8, 37.8, 87.6],\n",
    "     [20.6, 73.2, 44.2, 14.6, 91.8],\n",
    "     [57.4, 0.1, 96.1, 4.2, 69.5],\n",
    "     [83.6, 20.5, 85.4, 22.8, 35.9],\n",
    "     [49.0, 69.0, 0.1, 31.8, 89.1],\n",
    "     [23.3, 40.7, 95.0, 83.8, 26.9],\n",
    "     [27.6, 26.4, 53.8, 88.8, 68.5],\n",
    "     [96.6, 96.4, 53.4, 72.4, 50.1],\n",
    "     [73.7, 39.0, 43.2, 81.6, 34.7]]"
   ]
  },
  {
   "cell_type": "code",
   "execution_count": 6,
   "metadata": {},
   "outputs": [
    {
     "output_type": "stream",
     "name": "stdout",
     "text": [
      "      0     1     2     3     4\n0  53.1  95.0  67.5  35.0  78.4\n1  61.3  40.8  30.8  37.8  87.6\n2  20.6  73.2  44.2  14.6  91.8\n3  57.4   0.1  96.1   4.2  69.5\n4  83.6  20.5  85.4  22.8  35.9\n5  49.0  69.0   0.1  31.8  89.1\n6  23.3  40.7  95.0  83.8  26.9\n7  27.6  26.4  53.8  88.8  68.5\n8  96.6  96.4  53.4  72.4  50.1\n9  73.7  39.0  43.2  81.6  34.7\n"
     ]
    }
   ],
   "source": [
    "Test_df = pd.DataFrame(b)\n",
    "print(Test_df)"
   ]
  },
  {
   "cell_type": "markdown",
   "metadata": {},
   "source": [
    "### 5. Rename the data frame columns based on the names in the list below."
   ]
  },
  {
   "cell_type": "code",
   "execution_count": 7,
   "metadata": {},
   "outputs": [],
   "source": [
    "colnames = ['Score_1', 'Score_2', 'Score_3', 'Score_4', 'Score_5']"
   ]
  },
  {
   "cell_type": "code",
   "execution_count": 8,
   "metadata": {},
   "outputs": [
    {
     "output_type": "stream",
     "name": "stdout",
     "text": [
      "   Score_1  Score_2  Score_3  Score_4  Score_5\n0     53.1     95.0     67.5     35.0     78.4\n1     61.3     40.8     30.8     37.8     87.6\n2     20.6     73.2     44.2     14.6     91.8\n3     57.4      0.1     96.1      4.2     69.5\n4     83.6     20.5     85.4     22.8     35.9\n5     49.0     69.0      0.1     31.8     89.1\n6     23.3     40.7     95.0     83.8     26.9\n7     27.6     26.4     53.8     88.8     68.5\n8     96.6     96.4     53.4     72.4     50.1\n9     73.7     39.0     43.2     81.6     34.7\n"
     ]
    }
   ],
   "source": [
    "Test_df.columns = (colnames)\n",
    "print(Test_df)"
   ]
  },
  {
   "cell_type": "markdown",
   "metadata": {},
   "source": [
    "### 6. Create a subset of this data frame that contains only the Score 1, 3, and 5 columns."
   ]
  },
  {
   "cell_type": "code",
   "execution_count": 9,
   "metadata": {},
   "outputs": [
    {
     "output_type": "stream",
     "name": "stdout",
     "text": [
      "   Score_1  Score_3  Score_5\n0     53.1     67.5     78.4\n1     61.3     30.8     87.6\n2     20.6     44.2     91.8\n3     57.4     96.1     69.5\n4     83.6     85.4     35.9\n5     49.0      0.1     89.1\n6     23.3     95.0     26.9\n7     27.6     53.8     68.5\n8     96.6     53.4     50.1\n9     73.7     43.2     34.7\n"
     ]
    }
   ],
   "source": [
    "Test_Subset = Test_df[['Score_1','Score_3','Score_5']]\n",
    "print(Test_Subset)"
   ]
  },
  {
   "cell_type": "markdown",
   "metadata": {},
   "source": [
    "### 7. From the original data frame, calculate the average Score_3 value."
   ]
  },
  {
   "cell_type": "code",
   "execution_count": 10,
   "metadata": {},
   "outputs": [
    {
     "output_type": "stream",
     "name": "stdout",
     "text": [
      "The average for Score_3 is =  56.95000000000001\n"
     ]
    }
   ],
   "source": [
    "#print(Test_df)\n",
    "Average_Test = Test_df['Score_3'].mean()\n",
    "print(\"The average for Score_3 is = \",Average_Test)\n"
   ]
  },
  {
   "cell_type": "markdown",
   "metadata": {},
   "source": [
    "### 8. From the original data frame, calculate the maximum Score_4 value."
   ]
  },
  {
   "cell_type": "code",
   "execution_count": 11,
   "metadata": {},
   "outputs": [
    {
     "output_type": "stream",
     "name": "stdout",
     "text": [
      "The maximum score in Score_4 is =  88.8\n"
     ]
    }
   ],
   "source": [
    "Max_Test = Test_df['Score_4'].max()\n",
    "print(\"The maximum score in Score_4 is = \",Max_Test)"
   ]
  },
  {
   "cell_type": "markdown",
   "metadata": {},
   "source": [
    "### 9. From the original data frame, calculate the median Score 2 value."
   ]
  },
  {
   "cell_type": "code",
   "execution_count": 12,
   "metadata": {},
   "outputs": [
    {
     "output_type": "stream",
     "name": "stdout",
     "text": [
      "The median for Score_2 is =  40.75\n"
     ]
    }
   ],
   "source": [
    "Median_Test = Test_df['Score_2'].median()\n",
    "print(\"The median for Score_2 is = \",Median_Test)"
   ]
  },
  {
   "cell_type": "markdown",
   "metadata": {},
   "source": [
    "### 10. Create a Pandas DataFrame from the dictionary of product orders below."
   ]
  },
  {
   "cell_type": "code",
   "execution_count": 13,
   "metadata": {},
   "outputs": [],
   "source": [
    "orders = {'Description': ['LUNCH BAG APPLE DESIGN',\n",
    "  'SET OF 60 VINTAGE LEAF CAKE CASES ',\n",
    "  'RIBBON REEL STRIPES DESIGN ',\n",
    "  'WORLD WAR 2 GLIDERS ASSTD DESIGNS',\n",
    "  'PLAYING CARDS JUBILEE UNION JACK',\n",
    "  'POPCORN HOLDER',\n",
    "  'BOX OF VINTAGE ALPHABET BLOCKS',\n",
    "  'PARTY BUNTING',\n",
    "  'JAZZ HEARTS ADDRESS BOOK',\n",
    "  'SET OF 4 SANTA PLACE SETTINGS'],\n",
    " 'Quantity': [1, 24, 1, 2880, 2, 7, 1, 4, 10, 48],\n",
    " 'UnitPrice': [1.65, 0.55, 1.65, 0.18, 1.25, 0.85, 11.95, 4.95, 0.19, 1.25],\n",
    " 'Revenue': [1.65, 13.2, 1.65, 518.4, 2.5, 5.95, 11.95, 19.8, 1.9, 60.0]}"
   ]
  },
  {
   "cell_type": "code",
   "execution_count": 14,
   "metadata": {},
   "outputs": [
    {
     "output_type": "stream",
     "name": "stdout",
     "text": [
      "                          Description  Quantity  UnitPrice  Revenue\n0              LUNCH BAG APPLE DESIGN         1       1.65     1.65\n1  SET OF 60 VINTAGE LEAF CAKE CASES         24       0.55    13.20\n2         RIBBON REEL STRIPES DESIGN          1       1.65     1.65\n3   WORLD WAR 2 GLIDERS ASSTD DESIGNS      2880       0.18   518.40\n4    PLAYING CARDS JUBILEE UNION JACK         2       1.25     2.50\n5                      POPCORN HOLDER         7       0.85     5.95\n6      BOX OF VINTAGE ALPHABET BLOCKS         1      11.95    11.95\n7                       PARTY BUNTING         4       4.95    19.80\n8            JAZZ HEARTS ADDRESS BOOK        10       0.19     1.90\n9       SET OF 4 SANTA PLACE SETTINGS        48       1.25    60.00\n"
     ]
    }
   ],
   "source": [
    "Dict_df = pd.DataFrame(orders)\n",
    "print(Dict_df)"
   ]
  },
  {
   "cell_type": "markdown",
   "metadata": {},
   "source": [
    "### 11. Calculate the total quantity ordered and revenue generated from these orders."
   ]
  },
  {
   "cell_type": "code",
   "execution_count": 15,
   "metadata": {},
   "outputs": [
    {
     "output_type": "stream",
     "name": "stdout",
     "text": [
      "The total quantity is =  2978\nThe revenue is =  637.0\n"
     ]
    }
   ],
   "source": [
    "Total_Quant_Test = Dict_df['Quantity'].sum()\n",
    "print(\"The total quantity is = \",Total_Quant_Test)\n",
    "\n",
    "Revenue_Test = Dict_df['Revenue'].sum()\n",
    "print(\"The revenue is = \",Revenue_Test)"
   ]
  },
  {
   "cell_type": "markdown",
   "metadata": {},
   "source": [
    "### 12. Obtain the prices of the most expensive and least expensive items ordered and print the difference."
   ]
  },
  {
   "cell_type": "code",
   "execution_count": 16,
   "metadata": {},
   "outputs": [
    {
     "output_type": "stream",
     "name": "stdout",
     "text": [
      "The most expensive item price is =  11.95\nThe least expensive item price is =  0.18\n"
     ]
    }
   ],
   "source": [
    "Max_df = Dict_df['UnitPrice'].max()\n",
    "print(\"The most expensive item price is = \",Max_df)\n",
    "\n",
    "Min_df = Dict_df['UnitPrice'].min()\n",
    "print(\"The least expensive item price is = \",Min_df)"
   ]
  },
  {
   "cell_type": "code",
   "execution_count": 17,
   "metadata": {},
   "outputs": [
    {
     "output_type": "stream",
     "name": "stdout",
     "text": [
      "The difference in prices is =  11.77\n"
     ]
    }
   ],
   "source": [
    "Diff_Test = Max_df - Min_df\n",
    "print(\"The difference in prices is = \",Diff_Test)"
   ]
  },
  {
   "cell_type": "code",
   "execution_count": null,
   "metadata": {},
   "outputs": [],
   "source": []
  }
 ],
 "metadata": {
  "kernelspec": {
   "name": "Python 3.8.3 64-bit ('base': conda)",
   "display_name": "Python 3.8.3 64-bit ('base': conda)",
   "metadata": {
    "interpreter": {
     "hash": "11804bb1f250a85d0267cdde9a53e916113451a0f88a057835fc51e3493d4141"
    }
   }
  },
  "language_info": {
   "codemirror_mode": {
    "name": "ipython",
    "version": 3
   },
   "file_extension": ".py",
   "mimetype": "text/x-python",
   "name": "python",
   "nbconvert_exporter": "python",
   "pygments_lexer": "ipython3",
   "version": "3.8.3-final"
  }
 },
 "nbformat": 4,
 "nbformat_minor": 2
}